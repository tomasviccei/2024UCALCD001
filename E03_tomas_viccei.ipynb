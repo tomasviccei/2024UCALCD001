{
  "nbformat": 4,
  "nbformat_minor": 0,
  "metadata": {
    "colab": {
      "provenance": [],
      "authorship_tag": "ABX9TyMMeP9ynqOsrzHuOdEkuPve",
      "include_colab_link": true
    },
    "kernelspec": {
      "name": "python3",
      "display_name": "Python 3"
    },
    "language_info": {
      "name": "python"
    }
  },
  "cells": [
    {
      "cell_type": "markdown",
      "metadata": {
        "id": "view-in-github",
        "colab_type": "text"
      },
      "source": [
        "<a href=\"https://colab.research.google.com/github/tomasviccei/2024UCALCD001/blob/main/E03_tomas_viccei.ipynb\" target=\"_parent\"><img src=\"https://colab.research.google.com/assets/colab-badge.svg\" alt=\"Open In Colab\"/></a>"
      ]
    },
    {
      "cell_type": "markdown",
      "source": [
        "El objetivo será que los estudiantes puedan visualizar y comprender\n",
        "la distribución de valores en un conjunto de datos bidimensional y\n",
        "apreciar, además de la utilidad de las representaciones gráficas, el\n",
        "trabajo de desarrollo de un proyecto en el entorno de un Notebook\n",
        "con cotrol de versiones en GIT.\n",
        "**Contexto del ejercicio:**\n",
        "Imagina que trabajas para una empresa que se dedica a la exploración\n",
        "y extracción de recursos naturales. Tu equipo ha estado realizando\n",
        "estudios geológicos en una región montañosa para identificar posibles\n",
        "áreas ricas en minerales valiosos. Durante las exploraciones, se han\n",
        "recolectado muestras de roca en diferentes puntos de coordenadas (x,\n",
        "y) y se ha medido la concentración de un mineral específico en cada\n",
        "una de estas muestras.\n",
        "[10, 10.625, 12.5, 15.625, 20, 40] \\\n",
        "[5.625, 6.25, 8.125, 11.25, 15.625, 26.11] \\\n",
        "[2.5, 3.125, 5.0, 8.125, 12.5, 12.005] \\\n",
        "[0.625, 1.25, 3.125, 6.25, 10.625, 23.34] \\\n",
        "[0, 0.625, 2.5, 5.625, 10, 12.89] \\\n",
        "Tu tarea es analizar los datos de concentración del mineral y crear\n",
        "una visualización que permita identificar las áreas más prometedoras\n",
        "para la extracción. Para ello, utilizarás un gráfico de contorno,\n",
        "que te permitirá representar la distribución de las concentraciones\n",
        "del mineral en todo el área de estudio.\n"
      ],
      "metadata": {
        "id": "i7uW8ttoN9if"
      }
    },
    {
      "cell_type": "code",
      "execution_count": 1,
      "metadata": {
        "id": "1S0DQ6GgNypm"
      },
      "outputs": [],
      "source": [
        "import plotly.graph_objs as go\n",
        "from plotly.offline import iplot"
      ]
    },
    {
      "cell_type": "markdown",
      "source": [
        "**Listas** de Datos de ejemplo para el gráfico y definición de valores\n",
        "para las coordenadas.\n"
      ],
      "metadata": {
        "id": "Hfn786w5Ol23"
      }
    },
    {
      "cell_type": "code",
      "source": [
        "coordenadas_x = [0, 1, 2, 3, 4]\n",
        "coordenadas_y = [0, 1, 2, 3, 4]\n",
        "concentraciones = [[10, 10.625, 12.5, 15.625, 20],\n",
        " [5.625, 6.25, 8.125, 11.25, 15.625],\n",
        " [2.5, 3.125, 5.0, 8.125, 12.5],\n",
        " [0.625, 1.25, 3.125, 6.25, 10.625],\n",
        " [0, 0.625, 2.5, 5.625, 10]]"
      ],
      "metadata": {
        "id": "s49bMEhfOout"
      },
      "execution_count": null,
      "outputs": []
    },
    {
      "cell_type": "markdown",
      "source": [
        "**Configuración del Gráfico:** \\\n",
        "Esta Sección configura los parámetros para indicarle al\n",
        "**Framework**, *Dash* cómo crear el gráfico de contorno con la\n",
        "*Objeto* **iplot**."
      ],
      "metadata": {
        "id": "RBs2YOEqO14e"
      }
    },
    {
      "cell_type": "code",
      "source": [
        "data = [go.Contour(\n",
        " x=coordenadas_x,\n",
        " y=coordenadas_y,\n",
        " z=concentraciones,\n",
        " colorscale='Viridis'\n",
        ")]\n",
        "# Crear la figura y mostrar el gráfico\n",
        "fig = go.Figure(data=data)\n",
        "iplot(fig)\n"
      ],
      "metadata": {
        "id": "2jYN1fQ-O7I3"
      },
      "execution_count": null,
      "outputs": []
    }
  ]
}